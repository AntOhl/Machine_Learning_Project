{
 "cells": [
  {
   "cell_type": "code",
   "execution_count": 2,
   "metadata": {},
   "outputs": [],
   "source": [
    "#Setup\n",
    "import collections\n",
    "import pandas as pd\n",
    "import numpy as np\n",
    "import spacy\n",
    "import pickle\n",
    "from spacy.tokens import DocBin\n",
    "from spacy.tokens import Doc\n",
    "nlp = spacy.load('en_core_web_md')\n",
    "\n",
    "import matplotlib.pyplot as plt\n",
    "import squarify\n",
    "import seaborn as sns\n",
    "plt.rcParams[\"figure.figsize\"] = [20,10]\n",
    "\n",
    "#Set sentiment extensions\n",
    "from nltk.sentiment.vader import SentimentIntensityAnalyzer\n",
    "sent_analyzer = SentimentIntensityAnalyzer()\n",
    "def sentiment_scores(docx):\n",
    "    return sent_analyzer.polarity_scores(docx.text)\n",
    "Doc.set_extension(\"sentimenter\",getter=sentiment_scores,force=True)\n",
    "\n",
    "#Set Emoji extensions\n",
    "import emoji\n",
    "def extract_emojis(str):\n",
    "    return ''.join(c for c in str.text if c in emoji.UNICODE_EMOJI)\n",
    "Doc.set_extension(\"emoji\",getter=extract_emojis,force=True)"
   ]
  },
  {
   "cell_type": "code",
   "execution_count": 9,
   "metadata": {},
   "outputs": [],
   "source": [
    "#A help function to read the pickle file\n",
    "def read_data(path):\n",
    "    tweets = pickle.load(open(path, 'rb'))\n",
    "    doc_bin = DocBin().from_bytes(tweets)\n",
    "    docs = list(doc_bin.get_docs(nlp.vocab))\n",
    "    return docs"
   ]
  },
  {
   "cell_type": "code",
   "execution_count": 10,
   "metadata": {},
   "outputs": [],
   "source": [
    "#Read data\n",
    "df_train = pd.read_excel('tweets_train.xls', parse_dates=['date'])\n",
    "df_test = pd.read_excel('tweets_test.xls', parse_dates=['date'])\n",
    "t_train = read_data('tweets_train.p')\n",
    "t_test = read_data('tweets_train.p')"
   ]
  },
  {
   "cell_type": "markdown",
   "metadata": {},
   "source": [
    "# Get started\n",
    "\n",
    "df is a dataframe with the orginial text of tweets aggregated on a daily basis.\n",
    "\n",
    "t is a list object in python where NLPed tweets are stored - i.e. we need to extract features from it, and then append them to our dataframe.\n",
    "\n",
    "Please refer to Spacy_functions.ipynb and Feature Generation.ipynb for further instructions."
   ]
  },
  {
   "cell_type": "code",
   "execution_count": null,
   "metadata": {},
   "outputs": [],
   "source": []
  },
  {
   "cell_type": "code",
   "execution_count": null,
   "metadata": {},
   "outputs": [],
   "source": []
  },
  {
   "cell_type": "code",
   "execution_count": null,
   "metadata": {},
   "outputs": [],
   "source": []
  }
 ],
 "metadata": {
  "kernelspec": {
   "display_name": "Python 3",
   "language": "python",
   "name": "python3"
  },
  "language_info": {
   "codemirror_mode": {
    "name": "ipython",
    "version": 3
   },
   "file_extension": ".py",
   "mimetype": "text/x-python",
   "name": "python",
   "nbconvert_exporter": "python",
   "pygments_lexer": "ipython3",
   "version": "3.7.4"
  }
 },
 "nbformat": 4,
 "nbformat_minor": 2
}
