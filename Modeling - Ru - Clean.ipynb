{
 "cells": [
  {
   "cell_type": "markdown",
   "metadata": {},
   "source": [
    "# 1. Setup\n",
    "\n",
    "df is a dataframe with the orginial text of tweets aggregated on a daily basis.\n",
    "\n",
    "t is a list object in python where NLPed tweets are stored - i.e. we need to extract features from it, and then append them to our dataframe.\n",
    "\n",
    "Change the variable 'option' if you want to switch to daily data"
   ]
  },
  {
   "cell_type": "code",
   "execution_count": 133,
   "metadata": {},
   "outputs": [],
   "source": [
    "import collections\n",
    "import pandas as pd\n",
    "import numpy as np\n",
    "import spacy\n",
    "import pickle\n",
    "from spacy.tokens import DocBin\n",
    "from spacy.tokens import Doc\n",
    "\n",
    "from sklearn.feature_extraction.text import TfidfVectorizer\n",
    "\n",
    "nlp = spacy.load('en_core_web_md')\n",
    "\n",
    "import matplotlib.pyplot as plt\n",
    "import squarify\n",
    "import seaborn as sns\n",
    "plt.rcParams[\"figure.figsize\"] = [10,5]\n",
    "\n",
    "#Set sentiment extensions\n",
    "from nltk.sentiment.vader import SentimentIntensityAnalyzer\n",
    "sent_analyzer = SentimentIntensityAnalyzer()\n",
    "def sentiment_scores(docx):\n",
    "    return sent_analyzer.polarity_scores(docx.text)\n",
    "Doc.set_extension(\"sentimenter\",getter=sentiment_scores,force=True)\n",
    "\n",
    "#Set Emoji extensions\n",
    "import emoji\n",
    "def extract_emojis(str):\n",
    "    return ''.join(c for c in str.text if c in emoji.UNICODE_EMOJI)\n",
    "Doc.set_extension(\"emoji\",getter=extract_emojis,force=True)"
   ]
  },
  {
   "cell_type": "code",
   "execution_count": 51,
   "metadata": {},
   "outputs": [],
   "source": [
    "#A help function to read the pickle file\n",
    "def read_data(path):\n",
    "    tweets = pickle.load(open(path, 'rb'))\n",
    "    doc_bin = DocBin().from_bytes(tweets)\n",
    "    docs = list(doc_bin.get_docs(nlp.vocab))\n",
    "    return docs\n",
    "\n",
    "#A help function to count the elements within a given feature\n",
    "def count_features(x, text=False):\n",
    "    if text == False:\n",
    "        c = collections.Counter([item.text for tweet in x for item in tweet])\n",
    "    if text == True:\n",
    "        c = collections.Counter([item for tweet in x for item in tweet])\n",
    "    return c.most_common()\n",
    "\n",
    "#A help function to select top labels inside each group based on the frequency\n",
    "def top_features(x, t=30):\n",
    "    res = count_features(x, text=False)\n",
    "    res = [word[0] for word in res]\n",
    "    return res[:t]\n",
    "\n",
    "#A help function to filter out important words inside each tweet\n",
    "def features(tweets):\n",
    "\n",
    "    #Scalar Feature: sentiment\n",
    "    Sen = [tweet._.sentimenter for tweet in tweets]\n",
    "    Sen_compound = [s['compound'] for s in Sen]\n",
    "    #Entity Feature: organizations\n",
    "    ORG = [[ent for ent in tweet.ents if ent.label_ == 'ORG'] for tweet in tweets]\n",
    "    #Entity Feature: nationalities or religious or political groups\n",
    "    NORP = [[ent for ent in tweet.ents if ent.label_ == 'NORP'] for tweet in tweets]\n",
    "    #Entity Feature: events\n",
    "    EVENT = [[ent for ent in tweet.ents if ent.label_ == 'EVENT'] for tweet in tweets]\n",
    "    #Entity Feature: laws\n",
    "    LAW = [[ent for ent in tweet.ents if ent.label_ == 'LAW'] for tweet in tweets]\n",
    "    #Entity Feature: persons\n",
    "    PERSON = [[ent for ent in tweet.ents if ent.label_ == 'PERSON'] for tweet in tweets]\n",
    "    \n",
    "    return [Sen_compound, ORG, PERSON, LAW, EVENT, NORP]"
   ]
  },
  {
   "cell_type": "code",
   "execution_count": 52,
   "metadata": {},
   "outputs": [],
   "source": [
    "#Read data\n",
    "option = 'hourly'\n",
    "\n",
    "if option == 'hourly':\n",
    "    df_train = pd.read_excel('tweets_train_hourly.xls')\n",
    "    df_test = pd.read_excel('tweets_test_hourly.xls')\n",
    "    t_train = read_data('tweets_train_hourly.p')\n",
    "    t_test = read_data('tweets_test_hourly.p')\n",
    "elif option == 'daily':\n",
    "    df_train = pd.read_excel('tweets_train_daily.xls')\n",
    "    df_test = pd.read_excel('tweets_test_daily.xls')\n",
    "    t_train = read_data('tweets_train_daily.p')\n",
    "    t_test = read_data('tweets_test_daily.p')"
   ]
  },
  {
   "cell_type": "code",
   "execution_count": null,
   "metadata": {},
   "outputs": [],
   "source": []
  },
  {
   "cell_type": "markdown",
   "metadata": {},
   "source": [
    "# 2. Random Forest with Group Frequencies"
   ]
  },
  {
   "cell_type": "markdown",
   "metadata": {},
   "source": [
    "# 2.1 Feature Engineering"
   ]
  },
  {
   "cell_type": "code",
   "execution_count": 218,
   "metadata": {},
   "outputs": [],
   "source": [
    "def FE1(df, tweets):\n",
    "    #Generate features\n",
    "    [Sen_compound, ORG, PERSON, LAW, EVENT, NORP] = features(tweets)\n",
    "    \n",
    "    #Create features based on the frequencies of mentioned organizations, persons, etc.\n",
    "    #For example, if a row has an 'org' value of 2, the tweets inside this row mention 2 organizations on average.\n",
    "    X = pd.DataFrame({'sentiment': Sen_compound,\n",
    "                  'org': [len(o) for o in ORG],\n",
    "                  'person': [len(o) for o in PERSON],\n",
    "                  'law': [len(o) for o in LAW],\n",
    "                  'event': [len(o) for o in EVENT],\n",
    "                  'norp': [len(o) for o in NORP]})\n",
    "    \n",
    "    cols_avg = ['org', 'person', 'law', 'event', 'norp']\n",
    "    X[cols_avg] = X[cols_avg].divide(df['num'],axis=0)\n",
    "    \n",
    "    y = df['is_up']\n",
    "    \n",
    "    return X, y"
   ]
  },
  {
   "cell_type": "code",
   "execution_count": 219,
   "metadata": {},
   "outputs": [],
   "source": [
    "X_train, y_train = FE1(df_train, t_train)\n",
    "X_test, y_test = FE1(df_test, t_test)"
   ]
  },
  {
   "cell_type": "markdown",
   "metadata": {},
   "source": [
    "# 2.2 Cross Validation"
   ]
  },
  {
   "cell_type": "code",
   "execution_count": 220,
   "metadata": {},
   "outputs": [
    {
     "name": "stdout",
     "output_type": "stream",
     "text": [
      "{'fit_time': array([0.28083777, 0.27983904, 0.31681871, 0.29484797, 0.27484512]), 'score_time': array([0.02298689, 0.02198744, 0.02698636, 0.02598047, 0.02198243]), 'test_score': array([0.52898551, 0.52554745, 0.49635036, 0.5620438 , 0.5620438 ]), 'train_score': array([0.97992701, 0.97632058, 0.97632058, 0.97632058, 0.9708561 ])}\n"
     ]
    }
   ],
   "source": [
    "from sklearn.model_selection import cross_validate\n",
    "from sklearn.ensemble import RandomForestClassifier\n",
    "\n",
    "model = RandomForestClassifier(n_estimators = 300)\n",
    "\n",
    "print(cross_validate(model, X_train, y_train, cv=5, scoring='accuracy', return_train_score=True))"
   ]
  },
  {
   "cell_type": "markdown",
   "metadata": {},
   "source": [
    "# 2.3 Performance on the test set"
   ]
  },
  {
   "cell_type": "code",
   "execution_count": 221,
   "metadata": {},
   "outputs": [
    {
     "data": {
      "text/plain": [
       "0.584070796460177"
      ]
     },
     "execution_count": 221,
     "metadata": {},
     "output_type": "execute_result"
    }
   ],
   "source": [
    "model.fit(X_train, y_train)\n",
    "model.score(X_test, y_test)"
   ]
  },
  {
   "cell_type": "code",
   "execution_count": null,
   "metadata": {},
   "outputs": [],
   "source": []
  },
  {
   "cell_type": "markdown",
   "metadata": {},
   "source": [
    "# 3 KNN with TFIDF"
   ]
  },
  {
   "cell_type": "markdown",
   "metadata": {},
   "source": [
    "# 3.1 Feature Engineering"
   ]
  },
  {
   "cell_type": "code",
   "execution_count": 222,
   "metadata": {
    "scrolled": true
   },
   "outputs": [],
   "source": [
    "# Generate features using the training dataset\n",
    "[Sen_compound, ORG, PERSON, LAW, EVENT, NORP] = features(t_train)"
   ]
  },
  {
   "cell_type": "code",
   "execution_count": 223,
   "metadata": {},
   "outputs": [],
   "source": [
    "# Create a customized vocabulary list using most frequent words inside each group\n",
    "vocabulary = []\n",
    "for feature in [ORG, PERSON, LAW, EVENT, NORP]:\n",
    "    vocabulary += top_features(feature, 100)\n",
    "vocabulary = set(vocabulary)"
   ]
  },
  {
   "cell_type": "code",
   "execution_count": 224,
   "metadata": {},
   "outputs": [],
   "source": [
    "# Create a corpus that could be passed into our tokenizer\n",
    "corpus_train = [[word.text for word in tweet] for tweet in t_train]\n",
    "corpus_test = [[word.text for word in tweet] for tweet in t_test]"
   ]
  },
  {
   "cell_type": "code",
   "execution_count": 225,
   "metadata": {},
   "outputs": [
    {
     "data": {
      "text/plain": [
       "TfidfVectorizer(analyzer='word', binary=False, decode_error='strict',\n",
       "                dtype=<class 'numpy.float64'>, encoding='utf-8',\n",
       "                input='content', lowercase=False, max_df=1.0, max_features=None,\n",
       "                min_df=1, ngram_range=(1, 1), norm='l2', preprocessor=None,\n",
       "                smooth_idf=True, stop_words=None, strip_accents=None,\n",
       "                sublinear_tf=False, token_pattern='(?u)\\\\b\\\\w\\\\w+\\\\b',\n",
       "                tokenizer=<functi...\n",
       "                            '@EmmanuelMacron', '@FEMA', '@FLOTUS Melania',\n",
       "                            '@Google', '@HHSGov', '@JustinTrudeau',\n",
       "                            '@NASCAR Cup Series Champion @MartinTruex_Jr',\n",
       "                            '@Netanyahu', '@USMC', '@Varneyco', '@Vejonis',\n",
       "                            '@WhiteHouse', 'A.G. Eric Schneiderman', 'ABC',\n",
       "                            'AG', 'AMERICAN', 'AMERICANS', 'Abe', 'Adam',\n",
       "                            'Administration', 'African American',\n",
       "                            'African Americans', 'African-American',\n",
       "                            'African-Americans', 'American', 'Americans', ...})"
      ]
     },
     "execution_count": 225,
     "metadata": {},
     "output_type": "execute_result"
    }
   ],
   "source": [
    "# Feed the training dataset into TfidfVectorizer\n",
    "vectorizer = TfidfVectorizer(tokenizer = lambda x:x,\n",
    "                               smooth_idf=True, lowercase=False, vocabulary=vocabulary)\n",
    "vectorizer.fit(corpus_train)"
   ]
  },
  {
   "cell_type": "code",
   "execution_count": 226,
   "metadata": {},
   "outputs": [],
   "source": [
    "# Apply the tokenizer on both the training and test data sets\n",
    "X_train_tf = vectorizer.transform(corpus_train).todense()\n",
    "X_test_tf = vectorizer.transform(corpus_test).todense()"
   ]
  },
  {
   "cell_type": "code",
   "execution_count": 227,
   "metadata": {},
   "outputs": [
    {
     "data": {
      "text/plain": [
       "<matplotlib.axes._subplots.AxesSubplot at 0x1df04bf5408>"
      ]
     },
     "execution_count": 227,
     "metadata": {},
     "output_type": "execute_result"
    },
    {
     "data": {
      "image/png": "[encoded data removed]",
      "text/plain": [
       "<Figure size 720x360 with 1 Axes>"
      ]
     },
     "metadata": {
      "needs_background": "light"
     },
     "output_type": "display_data"
    }
   ],
   "source": [
    "# Fit a PCA transformer\n",
    "from sklearn.decomposition import PCA\n",
    "\n",
    "pca = PCA(n_components=80)\n",
    "pca.fit(X_train_tf)\n",
    "sns.lineplot(data = pca.explained_variance_ratio_.cumsum())"
   ]
  },
  {
   "cell_type": "code",
   "execution_count": 254,
   "metadata": {},
   "outputs": [],
   "source": [
    "def FE2(df, tweets, X_tf):\n",
    "    \n",
    "    #Apply PCA on the normalized tfidf matrix\n",
    "    [Sen_compound, ORG, PERSON, LAW, EVENT, NORP] = features(tweets)\n",
    "    tf = pca.transform(X_tf)\n",
    "    \n",
    "    #Add sentiment\n",
    "    sentiment = np.array(Sen_compound).reshape(-1,1)\n",
    "    \n",
    "    #Give the sentiment columns five times more weights\n",
    "    X = np.concatenate([tf, sentiment*5],axis=1)\n",
    "    y = df['is_up']\n",
    "    \n",
    "    return X, y"
   ]
  },
  {
   "cell_type": "code",
   "execution_count": 246,
   "metadata": {},
   "outputs": [],
   "source": [
    "X_train, y_train = FE2(df_train, t_train, X_train_tf)\n",
    "X_test, y_test = FE2(df_test, t_test, X_test_tf)"
   ]
  },
  {
   "cell_type": "code",
   "execution_count": null,
   "metadata": {},
   "outputs": [],
   "source": []
  },
  {
   "cell_type": "code",
   "execution_count": null,
   "metadata": {},
   "outputs": [],
   "source": []
  },
  {
   "cell_type": "markdown",
   "metadata": {},
   "source": [
    "# 3.2 Hyper-Parameter Tuning using Grid Search"
   ]
  },
  {
   "cell_type": "code",
   "execution_count": 255,
   "metadata": {},
   "outputs": [
    {
     "name": "stdout",
     "output_type": "stream",
     "text": [
      "Fitting 5 folds for each of 36 candidates, totalling 180 fits\n"
     ]
    },
    {
     "name": "stderr",
     "output_type": "stream",
     "text": [
      "[Parallel(n_jobs=-1)]: Using backend LokyBackend with 8 concurrent workers.\n",
      "[Parallel(n_jobs=-1)]: Done 180 out of 180 | elapsed:    0.3s finished\n"
     ]
    },
    {
     "data": {
      "text/plain": [
       "GridSearchCV(cv=5, error_score='raise-deprecating',\n",
       "             estimator=KNeighborsClassifier(algorithm='auto', leaf_size=30,\n",
       "                                            metric='minkowski',\n",
       "                                            metric_params=None, n_jobs=None,\n",
       "                                            n_neighbors=5, p=2,\n",
       "                                            weights='uniform'),\n",
       "             iid=True, n_jobs=-1,\n",
       "             param_grid={'metric': ['euclidean', 'manhattan'],\n",
       "                         'n_neighbors': array([1, 2, 3, 4, 5, 6, 7, 8, 9]),\n",
       "                         'weights': ['uniform', 'distance']},\n",
       "             pre_dispatch='2*n_jobs', refit=True, return_train_score=False,\n",
       "             scoring=None, verbose=1)"
      ]
     },
     "execution_count": 255,
     "metadata": {},
     "output_type": "execute_result"
    }
   ],
   "source": [
    "from sklearn.model_selection import GridSearchCV\n",
    "from sklearn.neighbors import KNeighborsClassifier\n",
    "\n",
    "\n",
    "parameters = {'n_neighbors':np.arange(1, 10), \n",
    "              'weights': ['uniform', 'distance'],\n",
    "              'metric': ['euclidean', 'manhattan']}\n",
    "model = GridSearchCV(KNeighborsClassifier(), parameters, verbose=1, cv=5, n_jobs=-1, iid=True)\n",
    "model.fit(X_train, y_train)"
   ]
  },
  {
   "cell_type": "code",
   "execution_count": 256,
   "metadata": {},
   "outputs": [
    {
     "data": {
      "text/plain": [
       "array([0.52186589, 0.52186589, 0.50728863, 0.52769679, 0.52623907,\n",
       "       0.54227405, 0.48688047, 0.53498542, 0.49708455, 0.52478134,\n",
       "       0.50291545, 0.52623907, 0.51457726, 0.53644315, 0.48979592,\n",
       "       0.51603499, 0.50437318, 0.52769679, 0.51895044, 0.51895044,\n",
       "       0.5       , 0.52478134, 0.51311953, 0.53206997, 0.48833819,\n",
       "       0.53061224, 0.51020408, 0.53790087, 0.50728863, 0.53498542,\n",
       "       0.50145773, 0.52915452, 0.5       , 0.51749271, 0.49854227,\n",
       "       0.52478134])"
      ]
     },
     "execution_count": 256,
     "metadata": {},
     "output_type": "execute_result"
    }
   ],
   "source": [
    "#CV score for each set of paramaters\n",
    "model.cv_results_['mean_test_score']"
   ]
  },
  {
   "cell_type": "markdown",
   "metadata": {},
   "source": [
    "# 3.3 Performance on the test set"
   ]
  },
  {
   "cell_type": "code",
   "execution_count": 257,
   "metadata": {},
   "outputs": [
    {
     "data": {
      "text/plain": [
       "0.5752212389380531"
      ]
     },
     "execution_count": 257,
     "metadata": {},
     "output_type": "execute_result"
    }
   ],
   "source": [
    "#Apply the model on the test set using the best parameters given by the grid search\n",
    "model.score(X_test, y_test)"
   ]
  },
  {
   "cell_type": "code",
   "execution_count": null,
   "metadata": {},
   "outputs": [],
   "source": []
  },
  {
   "cell_type": "code",
   "execution_count": null,
   "metadata": {},
   "outputs": [],
   "source": []
  },
  {
   "cell_type": "code",
   "execution_count": null,
   "metadata": {},
   "outputs": [],
   "source": []
  },
  {
   "cell_type": "code",
   "execution_count": null,
   "metadata": {},
   "outputs": [],
   "source": []
  },
  {
   "cell_type": "code",
   "execution_count": null,
   "metadata": {},
   "outputs": [],
   "source": []
  },
  {
   "cell_type": "code",
   "execution_count": null,
   "metadata": {},
   "outputs": [],
   "source": []
  }
 ],
 "metadata": {
  "kernelspec": {
   "display_name": "Python 3",
   "language": "python",
   "name": "python3"
  },
  "language_info": {
   "codemirror_mode": {
    "name": "ipython",
    "version": 3
   },
   "file_extension": ".py",
   "mimetype": "text/x-python",
   "name": "python",
   "nbconvert_exporter": "python",
   "pygments_lexer": "ipython3",
   "version": "3.7.4"
  }
 },
 "nbformat": 4,
 "nbformat_minor": 2
}
